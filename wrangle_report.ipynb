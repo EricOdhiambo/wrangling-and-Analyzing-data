{
  "nbformat": 4,
  "nbformat_minor": 0,
  "metadata": {
    "colab": {
      "provenance": [],
      "authorship_tag": "ABX9TyN/cJQXIJtY+MgsUO6WR7IV",
      "include_colab_link": true
    },
    "kernelspec": {
      "name": "python3",
      "display_name": "Python 3"
    },
    "language_info": {
      "name": "python"
    }
  },
  "cells": [
    {
      "cell_type": "markdown",
      "metadata": {
        "id": "view-in-github",
        "colab_type": "text"
      },
      "source": [
        "<a href=\"https://colab.research.google.com/github/EricOdhiambo/wrangling-and-Analyzing-data/blob/main/wrangle_report.ipynb\" target=\"_parent\"><img src=\"https://colab.research.google.com/assets/colab-badge.svg\" alt=\"Open In Colab\"/></a>"
      ]
    },
    {
      "cell_type": "markdown",
      "source": [
        "# Reporting: wragle_report\n",
        "Create a 300-600 word written report called \"wrangle_report.pdf\" or \"wrangle_report.html\" that briefly describes your wrangling efforts. This is to be framed as an internal document."
      ],
      "metadata": {
        "id": "FCcg6-zfD1ma"
      }
    },
    {
      "cell_type": "markdown",
      "source": [
        "This project enatailed wrangling data from Twitter about different dogs. Theree different data sets containing different information about dogs from twitter were collected using different methods from  twitter sources, assessed, merged and cleaned to create a master data set. The wrangling efforts began by visually and programattically assessing the data frames individually as CSV files using Google Sheets, and later as data frames using Pandas, Numpy, Python Programming Language and other related programming packages. "
      ],
      "metadata": {
        "id": "vTk6-_sNf-j8"
      }
    },
    {
      "cell_type": "markdown",
      "source": [
        "I was able to flag some anomalies in the different data frames and these include but were not limited to:\n",
        "\n",
        "*Quality Issues*\n",
        "\n",
        "-In df1: **twitter-archive.csv**, out of the 2356 entries in each column of this dataframe:\n",
        "\n",
        "* 2278 values in 'in_reply_to_status_id' column are missing\n",
        "\n",
        "* The 'retweeted_status_id' column has 2175 missing values\n",
        "\n",
        "* There are 2175 null values in the 'retweeted_status_user_id' column too\n",
        "\n",
        "* In the 'retweeted_status_timestamp' column 2175 values are missing\n",
        "\n",
        "* The 'in_reply_to_user_id' column has 2278 missing valuess\n",
        "\n",
        "* The 'expanded_url' column has some missing value\n",
        "\n",
        "* There is inconsitent data in the 'rating_denominator' column.\n",
        "\n",
        "* Some dogs have no names i.e Missing values in 'name' column.\n",
        "\n",
        "* Some dogs have been named inaccurately and incorrectly with just letters like 'a'.\n",
        "\n",
        "Tidiness issues\n",
        "* Some rows in the df1 column 'name' had an entry 'None'\n",
        "\n",
        "* Some entries in df1's 'text' column ought to be in other fields or other datasets\n"
      ],
      "metadata": {
        "id": "9o5OZIrWjYZv"
      }
    },
    {
      "cell_type": "code",
      "source": [],
      "metadata": {
        "id": "lpntNwMbhYoy"
      },
      "execution_count": null,
      "outputs": []
    }
  ]
}