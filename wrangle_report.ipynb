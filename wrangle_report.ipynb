{
  "nbformat": 4,
  "nbformat_minor": 0,
  "metadata": {
    "colab": {
      "provenance": [],
      "collapsed_sections": [],
      "authorship_tag": "ABX9TyNu+tjyeU7jy/GTA+cytIGp",
      "include_colab_link": true
    },
    "kernelspec": {
      "name": "python3",
      "display_name": "Python 3"
    },
    "language_info": {
      "name": "python"
    }
  },
  "cells": [
    {
      "cell_type": "markdown",
      "metadata": {
        "id": "view-in-github",
        "colab_type": "text"
      },
      "source": [
        "<a href=\"https://colab.research.google.com/github/EricOdhiambo/wrangling-and-Analyzing-data/blob/main/wrangle_report.ipynb\" target=\"_parent\"><img src=\"https://colab.research.google.com/assets/colab-badge.svg\" alt=\"Open In Colab\"/></a>"
      ]
    },
    {
      "cell_type": "markdown",
      "source": [
        "# Reporting: wragle_report\n"
      ],
      "metadata": {
        "id": "FCcg6-zfD1ma"
      }
    },
    {
      "cell_type": "markdown",
      "source": [
        "This project enatailed wrangling data from Twitter about different dogs. Theree different data sets containing different information about dogs from twitter were collected using different methods from  twitter sources, assessed, merged and cleaned to create a master data set. The wrangling efforts began by visually and programattically assessing the data frames individually as CSV files using Google Sheets, and later as data frames using Pandas, Numpy, Python Programming Language and other related programming packages. "
      ],
      "metadata": {
        "id": "vTk6-_sNf-j8"
      }
    },
    {
      "cell_type": "markdown",
      "source": [
        "While assessing the dataframes I was able to flag some anomalies in the different data frames which include but were not limited to:\n",
        "\n",
        "Quality Issues\n",
        "\n",
        "-In *df1: **twitter-archive.csv***, out of the 2356 entries in each column of this dataframe:\n",
        "\n",
        "* 2278 values in 'in_reply_to_status_id' column are missing\n",
        "\n",
        "* The 'retweeted_status_id' column has 2175 missing values\n",
        "\n",
        "* There are 2175 null values in the 'retweeted_status_user_id' column too\n",
        "\n",
        "* In the 'retweeted_status_timestamp' column 2175 values are missing\n",
        "\n",
        "* The 'in_reply_to_user_id' column has 2278 missing valuess\n",
        "\n",
        "* The 'expanded_url' column has some missing value\n",
        "\n",
        "* There is inconsitent data in the 'rating_denominator' column.\n",
        "\n",
        "* Some dogs have no names i.e Missing values in 'name' column.\n",
        "\n",
        "* Some dogs have been named inaccurately and incorrectly with just letters like 'a'.\n",
        "\n",
        "Tidiness issues\n",
        "* Some rows in the df1 column 'name' had an entry 'None'\n",
        "\n",
        "* Some entries in df1's 'text' column ought to be in other fields or other datasets\n"
      ],
      "metadata": {
        "id": "9o5OZIrWjYZv"
      }
    },
    {
      "cell_type": "markdown",
      "source": [
        "### Cleaning the data frames"
      ],
      "metadata": {
        "id": "1DTP-H2jIPwL"
      }
    },
    {
      "cell_type": "markdown",
      "source": [
        "The main instances in the quality issues were **missing values**s **data inaccuracy** and **data inconsistency**. To fix:\n",
        "\n",
        "* *2278 values in 'in_reply_to_status_id' column are missing* - \n",
        "I dropped this column since most of its entries were empty. Out of the 2356 entries in this column, 2278 were missing and having such a column would render our data untrustworthy which had to be deleted. t"
      ],
      "metadata": {
        "id": "wjXaa3ZLm9oD"
      }
    },
    {
      "cell_type": "markdown",
      "source": [
        "To further clean more **missing values** cases, after assessing and noting that:"
      ],
      "metadata": {
        "id": "AZ5JCHPTEj2l"
      }
    },
    {
      "cell_type": "markdown",
      "source": [
        "* *The 'retweeted_status_id' column had 2175 missing values*\n",
        "\n",
        "* *There were 2175 null values in the 'retweeted_status_user_id' column too*\n",
        "\n",
        "* *In the 'retweeted_status_timestamp' column 2175 values were missing*"
      ],
      "metadata": {
        "id": "u7-3ifsvEBrR"
      }
    },
    {
      "cell_type": "markdown",
      "source": [
        "drawing a percentage attribute of **92.31 %** of missing value in the named columns,\n",
        "\n",
        ">>>>$\\frac{2175}{2356} = {0.9231}$\n",
        "\n",
        ">>>>*0.9231* x *100%* = **92.31 %**"
      ],
      "metadata": {
        "id": "Ejj-svJP77OY"
      }
    },
    {
      "cell_type": "markdown",
      "source": [
        "I deciced to drop these columns. This will ensure a more accurate data set that can be used to draw meaningful insights. I further deleted the column 'in_reply_to_user_id' column which had 2278 missing values and would clearly derive above 90% of missing value in the 'in_reply_to_user_id' column like in previous dropped columns. The 'expanded_url' column had few rows with missing values too. In this case, I dropped the few rows which had the missing values. "
      ],
      "metadata": {
        "id": "jcv8tIHlHPEg"
      }
    },
    {
      "cell_type": "markdown",
      "source": [
        "Most entries of the 'rating_denominator' were '10' but in other cases they are different. Some are '50' '120' '90' '150' '130' '2' '11' e.t.c. For this data's consistency it was best to keep the data with ratings denominatoer entries equall to 10 and drop all other rows with varrying 'rating_denominator' values. "
      ],
      "metadata": {
        "id": "I1-k1FiDKA-I"
      }
    },
    {
      "cell_type": "markdown",
      "source": [
        "I equally noted that some dogs had no names thus indicating missing values in 'name' column. To clean this quality issue the rows which had no names of dogs were dropped. Some dogs had been named inaccurately and incorrectly with just letters like 'a'. Conventionally, 'a' would not be considered as name and therefore the columns with such names were dropped too."
      ],
      "metadata": {
        "id": "NYWOTi_bMX6R"
      }
    },
    {
      "cell_type": "markdown",
      "source": [
        "On the quality issue like *Some rows in the twitter-archive-enhanced.csv file 'name' column ' had an entry 'None'* - an entry 'None' is not proper to be considered as a name. I replaced 'None' with 'Nan' which would leave data with missing values in the modified areas. The rows with the missing names would further be deleted.\n",
        "\n",
        "*Some entries in twitter-archive-enhanced.csv file 'text' column ought to be in other fields or other dataset*. The assessing steps drove discoveries that these texts were not original tweets but retweets, identified starting with a string of text RT. For this issue, each retweet text from the data set was deleted as they should belong in a seperate data set preferably a retweets data set.\n",
        "\n",
        "The three data frames were then joined to form one data frame using the columns' 'tweet_id' which was common in all data frames. This merged data frame would be saved and stored as the master data set,  twitter_archive_master.csv file. "
      ],
      "metadata": {
        "id": "egORnYu7NLRv"
      }
    }
  ]
}